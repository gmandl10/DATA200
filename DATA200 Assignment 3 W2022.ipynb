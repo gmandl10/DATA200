{
 "cells": [
  {
   "cell_type": "markdown",
   "metadata": {},
   "source": [
    "# Assignment 3: Trump, Twitter, and Text\n",
    "\n",
    "Due Date: 11:59pm Monday, February 14, 2022   \n",
    "\n",
    "#### Welcome to the third homework assignment of Data 200! In this assignment, we will work with Twitter data in order to analyze Donald Trump's tweets.\n",
    "\n",
    "#### Collaboration Policy\n",
    "\n",
    "Data science is a collaborative activity. While you may talk with others about the homework, we ask that you write your solutions indivi\n",
    "dually. If you do discuss the assignments with others please include their names below.\n",
    "\n",
    "**Collaborators: Marcus Rilling, Kayleigh Habib**"
   ]
  },
  {
   "cell_type": "code",
   "execution_count": 51,
   "metadata": {},
   "outputs": [],
   "source": [
    "# Run this cell to set up your notebook\n",
    "import csv\n",
    "import numpy as np\n",
    "import pandas as pd\n",
    "import matplotlib.pyplot as plt\n",
    "import json\n",
    "import zipfile\n",
    "import seaborn as sns\n",
    "from IPython.display import display, Latex, Markdown\n",
    "import re\n",
    "\n",
    "# Ensure that Pandas shows at least 280 characters in columns, so we can see full tweets\n",
    "pd.set_option('max_colwidth', 280)"
   ]
  },
  {
   "cell_type": "markdown",
   "metadata": {},
   "source": [
    "### Before we start\n",
    "\n",
    "All data is made from real-world phenomena, be it the movement of the planets, animal behavior, or human bodies and activities. Working with data always has a bearing back on how human beings know and act in the world. The dataset that you're about to work with in this homework consists of a compilation of President Trump's Tweets. It's important to acknowledge that these Tweets are more than just data -- they're the means by which the President expresses his opinions, performs public and foreign policy, and shapes the lives of people in the US and all over the world. More fundamentally, these Tweets are a powerful form of speech that is particularly significant on the eve of the 2020 US Presidential Election. We recognize that working with this data now, even in the context of a technical exercise, is not a neutral activity and may create difficult feelings in students. We encourage you to observe what you may be experiencing and invite you to consider these dimensions of data science work alongside your technical lessons and we're glad to discuss these issues together in section.\n",
    "\n",
    "### Disclaimer about sns.distplot()\n",
    "This homework was designed for a slightly older version of seaborn, which does not support the new displot method. Instead, in this homework we will heavily rely on distplot (with a t). As you may have noticed in lab 5, use of the distplot function triggers a deprecation warning to notify the user that they should replace all deprecated functions with the updated version. Generally, warnings should not be suppressed but we will do so in this assignment to avoid cluttering.\n",
    "\n",
    "See the seaborn documentation on [distributions](https://seaborn.pydata.org/tutorial/distributions.html) and [functions](https://seaborn.pydata.org/tutorial/function_overview.html) for more details."
   ]
  },
  {
   "cell_type": "code",
   "execution_count": 52,
   "metadata": {},
   "outputs": [],
   "source": [
    "# Run this cell to suppress all DeprecationWarnings\n",
    "import warnings\n",
    "warnings.filterwarnings(\"ignore\", category=FutureWarning)"
   ]
  },
  {
   "cell_type": "code",
   "execution_count": 53,
   "metadata": {},
   "outputs": [
    {
     "data": {
      "text/html": [
       "<div>\n",
       "<style scoped>\n",
       "    .dataframe tbody tr th:only-of-type {\n",
       "        vertical-align: middle;\n",
       "    }\n",
       "\n",
       "    .dataframe tbody tr th {\n",
       "        vertical-align: top;\n",
       "    }\n",
       "\n",
       "    .dataframe thead th {\n",
       "        text-align: right;\n",
       "    }\n",
       "</style>\n",
       "<table border=\"1\" class=\"dataframe\">\n",
       "  <thead>\n",
       "    <tr style=\"text-align: right;\">\n",
       "      <th></th>\n",
       "      <th>id</th>\n",
       "      <th>text</th>\n",
       "      <th>isRetweet</th>\n",
       "      <th>isDeleted</th>\n",
       "      <th>device</th>\n",
       "      <th>favorites</th>\n",
       "      <th>retweets</th>\n",
       "      <th>date</th>\n",
       "      <th>isFlagged</th>\n",
       "    </tr>\n",
       "  </thead>\n",
       "  <tbody>\n",
       "    <tr>\n",
       "      <th>0</th>\n",
       "      <td>98454970654916608</td>\n",
       "      <td>Republicans and Democrats have both created our economic problems.</td>\n",
       "      <td>f</td>\n",
       "      <td>f</td>\n",
       "      <td>TweetDeck</td>\n",
       "      <td>49</td>\n",
       "      <td>255</td>\n",
       "      <td>2011-08-02 18:07:48</td>\n",
       "      <td>f</td>\n",
       "    </tr>\n",
       "    <tr>\n",
       "      <th>1</th>\n",
       "      <td>1234653427789070336</td>\n",
       "      <td>I was thrilled to be back in the Great city of Charlotte, North Carolina with thousands of hardworking American Patriots who love our Country, cherish our values, respect our laws, and always put AMERICA FIRST! Thank you for a wonderful evening!! #KAG2020 https://t.co/dNJZfRsl9y</td>\n",
       "      <td>f</td>\n",
       "      <td>f</td>\n",
       "      <td>Twitter for iPhone</td>\n",
       "      <td>73748</td>\n",
       "      <td>17404</td>\n",
       "      <td>2020-03-03 01:34:50</td>\n",
       "      <td>f</td>\n",
       "    </tr>\n",
       "    <tr>\n",
       "      <th>2</th>\n",
       "      <td>1218010753434820614</td>\n",
       "      <td>RT @CBS_Herridge: READ: Letter to surveillance court obtained by CBS News questions where there will be further disciplinary action and cho…</td>\n",
       "      <td>t</td>\n",
       "      <td>f</td>\n",
       "      <td>Twitter for iPhone</td>\n",
       "      <td>0</td>\n",
       "      <td>7396</td>\n",
       "      <td>2020-01-17 03:22:47</td>\n",
       "      <td>f</td>\n",
       "    </tr>\n",
       "    <tr>\n",
       "      <th>3</th>\n",
       "      <td>1304875170860015617</td>\n",
       "      <td>The Unsolicited Mail In Ballot Scam is a major threat to our Democracy, &amp;amp; the Democrats know it. Almost all recent elections using this system, even though much smaller &amp;amp;  with far fewer Ballots to count, have ended up being a disaster. Large numbers of missing Ballot...</td>\n",
       "      <td>f</td>\n",
       "      <td>f</td>\n",
       "      <td>Twitter for iPhone</td>\n",
       "      <td>80527</td>\n",
       "      <td>23502</td>\n",
       "      <td>2020-09-12 20:10:58</td>\n",
       "      <td>f</td>\n",
       "    </tr>\n",
       "    <tr>\n",
       "      <th>4</th>\n",
       "      <td>1218159531554897920</td>\n",
       "      <td>RT @MZHemingway: Very friendly telling of events here about Comey's apparent leaking to compliant media. If you read those articles and tho…</td>\n",
       "      <td>t</td>\n",
       "      <td>f</td>\n",
       "      <td>Twitter for iPhone</td>\n",
       "      <td>0</td>\n",
       "      <td>9081</td>\n",
       "      <td>2020-01-17 13:13:59</td>\n",
       "      <td>f</td>\n",
       "    </tr>\n",
       "  </tbody>\n",
       "</table>\n",
       "</div>"
      ],
      "text/plain": [
       "                    id  \\\n",
       "0    98454970654916608   \n",
       "1  1234653427789070336   \n",
       "2  1218010753434820614   \n",
       "3  1304875170860015617   \n",
       "4  1218159531554897920   \n",
       "\n",
       "                                                                                                                                                                                                                                                                                      text  \\\n",
       "0                                                                                                                                                                                                                       Republicans and Democrats have both created our economic problems.   \n",
       "1  I was thrilled to be back in the Great city of Charlotte, North Carolina with thousands of hardworking American Patriots who love our Country, cherish our values, respect our laws, and always put AMERICA FIRST! Thank you for a wonderful evening!! #KAG2020 https://t.co/dNJZfRsl9y   \n",
       "2                                                                                                                                             RT @CBS_Herridge: READ: Letter to surveillance court obtained by CBS News questions where there will be further disciplinary action and cho…   \n",
       "3  The Unsolicited Mail In Ballot Scam is a major threat to our Democracy, &amp; the Democrats know it. Almost all recent elections using this system, even though much smaller &amp;  with far fewer Ballots to count, have ended up being a disaster. Large numbers of missing Ballot...   \n",
       "4                                                                                                                                             RT @MZHemingway: Very friendly telling of events here about Comey's apparent leaking to compliant media. If you read those articles and tho…   \n",
       "\n",
       "  isRetweet isDeleted              device  favorites  retweets  \\\n",
       "0         f         f           TweetDeck         49       255   \n",
       "1         f         f  Twitter for iPhone      73748     17404   \n",
       "2         t         f  Twitter for iPhone          0      7396   \n",
       "3         f         f  Twitter for iPhone      80527     23502   \n",
       "4         t         f  Twitter for iPhone          0      9081   \n",
       "\n",
       "                  date isFlagged  \n",
       "0  2011-08-02 18:07:48         f  \n",
       "1  2020-03-03 01:34:50         f  \n",
       "2  2020-01-17 03:22:47         f  \n",
       "3  2020-09-12 20:10:58         f  \n",
       "4  2020-01-17 13:13:59         f  "
      ]
     },
     "execution_count": 53,
     "metadata": {},
     "output_type": "execute_result"
    }
   ],
   "source": [
    "# Import the dataset\n",
    "tweets = pd.read_csv(\"tweets_01-08-2021.csv\")\n",
    "tweets.head()"
   ]
  },
  {
   "cell_type": "markdown",
   "metadata": {},
   "source": [
    "### Question 0\n",
    "    \n",
    "There are many ways we could choose to read the President’s tweets. Why might someone be interested in doing data analysis on the President’s tweets? Name a kind of person or institution which might be interested in this kind of analysis. Then, give two reasons why a data analysis of the President's tweets might be interesting or useful for them. Answer in 2-3 sentences.\n",
    "\n",
    "**The stock market is impacted by the economic conditions of the government, thus they would be interested to see what the president was tweeting in order to predict actions he could take. By predicting the presidents actions, they could buy or sell stocks that they believe the President's tweets may impact. The president's media presence also has a large impact on the consumers and a positive or negative tweet towards a product or industry could impact the markets**"
   ]
  },
  {
   "cell_type": "markdown",
   "metadata": {},
   "source": [
    "### Question 1\n",
    "\n",
    "Construct a DataFrame called trump containing data from all the tweets stored in _text_. The index of the DataFrame should be the ID of each tweet (looks something like 907698529606541312). It should have these columns:\n",
    "\n",
    "*date: The time the tweet was created encoded as a datetime object.*\n",
    "*device: The source device of the tweet.*\n",
    "*text: The text of the tweet.*\n",
    "*retweet: The retweet count of the tweet.*\n",
    "\n",
    "**Finally, the resulting DataFrame should be sorted by the index.**\n",
    "\n",
    "Hint: You might want to explicitly specify the columns and indices using pd.DataFrame()."
   ]
  },
  {
   "cell_type": "code",
   "execution_count": 69,
   "metadata": {},
   "outputs": [
    {
     "data": {
      "text/html": [
       "<div>\n",
       "<style scoped>\n",
       "    .dataframe tbody tr th:only-of-type {\n",
       "        vertical-align: middle;\n",
       "    }\n",
       "\n",
       "    .dataframe tbody tr th {\n",
       "        vertical-align: top;\n",
       "    }\n",
       "\n",
       "    .dataframe thead th {\n",
       "        text-align: right;\n",
       "    }\n",
       "</style>\n",
       "<table border=\"1\" class=\"dataframe\">\n",
       "  <thead>\n",
       "    <tr style=\"text-align: right;\">\n",
       "      <th></th>\n",
       "      <th>date</th>\n",
       "      <th>device</th>\n",
       "      <th>text</th>\n",
       "      <th>retweets</th>\n",
       "    </tr>\n",
       "    <tr>\n",
       "      <th>id</th>\n",
       "      <th></th>\n",
       "      <th></th>\n",
       "      <th></th>\n",
       "      <th></th>\n",
       "    </tr>\n",
       "  </thead>\n",
       "  <tbody>\n",
       "    <tr>\n",
       "      <th>1698308935</th>\n",
       "      <td>2009-05-04 18:54:25</td>\n",
       "      <td>Twitter Web Client</td>\n",
       "      <td>Be sure to tune in and watch Donald Trump on Late Night with David Letterman as he presents the Top Ten List tonight!</td>\n",
       "      <td>519</td>\n",
       "    </tr>\n",
       "    <tr>\n",
       "      <th>1701461182</th>\n",
       "      <td>2009-05-05 01:00:10</td>\n",
       "      <td>Twitter Web Client</td>\n",
       "      <td>Donald Trump will be appearing on The View tomorrow morning to discuss Celebrity Apprentice and his new book Think Like A Champion!</td>\n",
       "      <td>34</td>\n",
       "    </tr>\n",
       "    <tr>\n",
       "      <th>1737479987</th>\n",
       "      <td>2009-05-08 13:38:08</td>\n",
       "      <td>Twitter Web Client</td>\n",
       "      <td>Donald Trump reads Top Ten Financial Tips on Late Show with David Letterman: http://tinyurl.com/ooafwn - Very funny!</td>\n",
       "      <td>15</td>\n",
       "    </tr>\n",
       "    <tr>\n",
       "      <th>1741160716</th>\n",
       "      <td>2009-05-08 20:40:15</td>\n",
       "      <td>Twitter Web Client</td>\n",
       "      <td>New Blog Post: Celebrity Apprentice Finale and Lessons Learned Along the Way: http://tinyurl.com/qlux5e</td>\n",
       "      <td>11</td>\n",
       "    </tr>\n",
       "    <tr>\n",
       "      <th>1773561338</th>\n",
       "      <td>2009-05-12 14:07:28</td>\n",
       "      <td>Twitter Web Client</td>\n",
       "      <td>\"\"\"My persona will never be that of a wallflower - I’d rather build walls than cling to them\"\" --Donald J. Trump\"</td>\n",
       "      <td>1321</td>\n",
       "    </tr>\n",
       "  </tbody>\n",
       "</table>\n",
       "</div>"
      ],
      "text/plain": [
       "                          date              device  \\\n",
       "id                                                   \n",
       "1698308935 2009-05-04 18:54:25  Twitter Web Client   \n",
       "1701461182 2009-05-05 01:00:10  Twitter Web Client   \n",
       "1737479987 2009-05-08 13:38:08  Twitter Web Client   \n",
       "1741160716 2009-05-08 20:40:15  Twitter Web Client   \n",
       "1773561338 2009-05-12 14:07:28  Twitter Web Client   \n",
       "\n",
       "                                                                                                                                           text  \\\n",
       "id                                                                                                                                                \n",
       "1698308935                Be sure to tune in and watch Donald Trump on Late Night with David Letterman as he presents the Top Ten List tonight!   \n",
       "1701461182  Donald Trump will be appearing on The View tomorrow morning to discuss Celebrity Apprentice and his new book Think Like A Champion!   \n",
       "1737479987                 Donald Trump reads Top Ten Financial Tips on Late Show with David Letterman: http://tinyurl.com/ooafwn - Very funny!   \n",
       "1741160716                              New Blog Post: Celebrity Apprentice Finale and Lessons Learned Along the Way: http://tinyurl.com/qlux5e   \n",
       "1773561338                    \"\"\"My persona will never be that of a wallflower - I’d rather build walls than cling to them\"\" --Donald J. Trump\"   \n",
       "\n",
       "            retweets  \n",
       "id                    \n",
       "1698308935       519  \n",
       "1701461182        34  \n",
       "1737479987        15  \n",
       "1741160716        11  \n",
       "1773561338      1321  "
      ]
     },
     "execution_count": 69,
     "metadata": {},
     "output_type": "execute_result"
    }
   ],
   "source": [
    "trump = pd.DataFrame(data=tweets, columns=[\"id\",\"date\",\"device\",\"text\",\"retweets\"]).sort_values(by=\"id\")\n",
    "trump[\"date\"]=pd.to_datetime(trump[\"date\"])\n",
    "trump[\"text\"] = pd.Series(trump[\"text\"],dtype = \"string\")\n",
    "trump.set_index(\"id\", inplace = True)\n",
    "trump.head()"
   ]
  },
  {
   "cell_type": "markdown",
   "metadata": {},
   "source": [
    "### Question 2 Tweet source analysis \n",
    "\n",
    "In the following questions, we are going to find out the charateristics of Trump tweets and the devices used for the tweets.\n",
    "\n",
    "First let's examine the source field:"
   ]
  },
  {
   "cell_type": "code",
   "execution_count": 70,
   "metadata": {
    "scrolled": true
   },
   "outputs": [
    {
     "data": {
      "text/plain": [
       "array(['Twitter Web Client', 'TweetDeck', 'TwitLonger Beta', 'Facebook',\n",
       "       'Twitter for iPhone', 'Twitter Web App', 'Twitter for Android',\n",
       "       'Instagram', 'Twitlonger', 'Vine - Make a Scene',\n",
       "       'Twitter for Websites', 'Twitter for BlackBerry',\n",
       "       'Neatly For BlackBerry 10', 'Periscope', 'Twitter QandA',\n",
       "       'Twitter Mirror for iPad', 'Twitter Ads', 'Twitter for iPad',\n",
       "       'Twitter Media Studio', 'Media Studio'], dtype=object)"
      ]
     },
     "execution_count": 70,
     "metadata": {},
     "output_type": "execute_result"
    }
   ],
   "source": [
    "trump['device'].unique()"
   ]
  },
  {
   "cell_type": "markdown",
   "metadata": {},
   "source": [
    "In the following plot, we see that there are two device types that are more commonly used than others."
   ]
  },
  {
   "cell_type": "code",
   "execution_count": 71,
   "metadata": {},
   "outputs": [
    {
     "data": {
      "image/png": "[encoded data removed]",
      "text/plain": [
       "<Figure size 576x432 with 1 Axes>"
      ]
     },
     "metadata": {
      "needs_background": "light"
     },
     "output_type": "display_data"
    }
   ],
   "source": [
    "plt.figure(figsize=(8, 6))\n",
    "trump['device'].value_counts().plot(kind=\"bar\")\n",
    "plt.xlabel('device')\n",
    "plt.ylabel(\"Number of Tweets\")\n",
    "plt.title(\"Number of Tweets by Source\");"
   ]
  },
  {
   "cell_type": "markdown",
   "metadata": {},
   "source": [
    "#### Question 2 (a) \n",
    "\n",
    "Let's extrat the rows with the two major devices \"Twitter for iPhone\" and \"Twitter for Android\", and then replace \"Twitter for iPhone\" by \"iPhone\" and \"Twitteer for Android\" by \"Android\". "
   ]
  },
  {
   "cell_type": "code",
   "execution_count": 72,
   "metadata": {},
   "outputs": [
    {
     "name": "stderr",
     "output_type": "stream",
     "text": [
      "/tmp/ipykernel_65/560626273.py:2: SettingWithCopyWarning: \n",
      "A value is trying to be set on a copy of a slice from a DataFrame.\n",
      "Try using .loc[row_indexer,col_indexer] = value instead\n",
      "\n",
      "See the caveats in the documentation: https://pandas.pydata.org/pandas-docs/stable/user_guide/indexing.html#returning-a-view-versus-a-copy\n",
      "  trump_device[\"device\"] = trump_device[\"device\"].replace({\"Twitter for iPhone\":\"iPhone\", \"Twitter for Android\":\"Android\"})\n"
     ]
    },
    {
     "data": {
      "text/html": [
       "<div>\n",
       "<style scoped>\n",
       "    .dataframe tbody tr th:only-of-type {\n",
       "        vertical-align: middle;\n",
       "    }\n",
       "\n",
       "    .dataframe tbody tr th {\n",
       "        vertical-align: top;\n",
       "    }\n",
       "\n",
       "    .dataframe thead th {\n",
       "        text-align: right;\n",
       "    }\n",
       "</style>\n",
       "<table border=\"1\" class=\"dataframe\">\n",
       "  <thead>\n",
       "    <tr style=\"text-align: right;\">\n",
       "      <th></th>\n",
       "      <th>date</th>\n",
       "      <th>device</th>\n",
       "      <th>text</th>\n",
       "      <th>retweets</th>\n",
       "    </tr>\n",
       "    <tr>\n",
       "      <th>id</th>\n",
       "      <th></th>\n",
       "      <th></th>\n",
       "      <th></th>\n",
       "      <th></th>\n",
       "    </tr>\n",
       "  </thead>\n",
       "  <tbody>\n",
       "    <tr>\n",
       "      <th>278308122500661248</th>\n",
       "      <td>2012-12-11 01:20:01</td>\n",
       "      <td>iPhone</td>\n",
       "      <td>Good luck to Bob Kraft, Tom Brady, and Coach Bill Belichick tonight.</td>\n",
       "      <td>629</td>\n",
       "    </tr>\n",
       "    <tr>\n",
       "      <th>298972696438521857</th>\n",
       "      <td>2013-02-06 01:53:40</td>\n",
       "      <td>Android</td>\n",
       "      <td>Thanks @SherriEShepherd 4 your nice comments today on The View. U were terrific!</td>\n",
       "      <td>26</td>\n",
       "    </tr>\n",
       "    <tr>\n",
       "      <th>302270661387231232</th>\n",
       "      <td>2013-02-15 04:18:36</td>\n",
       "      <td>Android</td>\n",
       "      <td>@rosscooker thanks</td>\n",
       "      <td>6</td>\n",
       "    </tr>\n",
       "    <tr>\n",
       "      <th>302358232716939265</th>\n",
       "      <td>2013-02-15 10:06:34</td>\n",
       "      <td>Android</td>\n",
       "      <td>@RuRu_89 thanks</td>\n",
       "      <td>4</td>\n",
       "    </tr>\n",
       "    <tr>\n",
       "      <th>302925403595612160</th>\n",
       "      <td>2013-02-16 23:40:18</td>\n",
       "      <td>Android</td>\n",
       "      <td>Great going.</td>\n",
       "      <td>127</td>\n",
       "    </tr>\n",
       "  </tbody>\n",
       "</table>\n",
       "</div>"
      ],
      "text/plain": [
       "                                  date   device  \\\n",
       "id                                                \n",
       "278308122500661248 2012-12-11 01:20:01   iPhone   \n",
       "298972696438521857 2013-02-06 01:53:40  Android   \n",
       "302270661387231232 2013-02-15 04:18:36  Android   \n",
       "302358232716939265 2013-02-15 10:06:34  Android   \n",
       "302925403595612160 2013-02-16 23:40:18  Android   \n",
       "\n",
       "                                                                                                text  \\\n",
       "id                                                                                                     \n",
       "278308122500661248              Good luck to Bob Kraft, Tom Brady, and Coach Bill Belichick tonight.   \n",
       "298972696438521857  Thanks @SherriEShepherd 4 your nice comments today on The View. U were terrific!   \n",
       "302270661387231232                                                                @rosscooker thanks   \n",
       "302358232716939265                                                                   @RuRu_89 thanks   \n",
       "302925403595612160                                                                      Great going.   \n",
       "\n",
       "                    retweets  \n",
       "id                            \n",
       "278308122500661248       629  \n",
       "298972696438521857        26  \n",
       "302270661387231232         6  \n",
       "302358232716939265         4  \n",
       "302925403595612160       127  "
      ]
     },
     "execution_count": 72,
     "metadata": {},
     "output_type": "execute_result"
    }
   ],
   "source": [
    "trump_device = trump.loc[(trump.device == \"Twitter for iPhone\") | (trump.device == \"Twitter for Android\")]\n",
    "trump_device[\"device\"] = trump_device[\"device\"].replace({\"Twitter for iPhone\":\"iPhone\", \"Twitter for Android\":\"Android\"})\n",
    "trump_device.head()"
   ]
  },
  {
   "cell_type": "markdown",
   "metadata": {},
   "source": [
    "#### Question 2 (b) \n",
    "\n",
    "parse the date into six new columns representing \"year\", \"month\", \"day\", \"hour\", \"minute\" and \"second\". "
   ]
  },
  {
   "cell_type": "code",
   "execution_count": 73,
   "metadata": {},
   "outputs": [
    {
     "name": "stderr",
     "output_type": "stream",
     "text": [
      "/tmp/ipykernel_65/1709783570.py:1: SettingWithCopyWarning: \n",
      "A value is trying to be set on a copy of a slice from a DataFrame.\n",
      "Try using .loc[row_indexer,col_indexer] = value instead\n",
      "\n",
      "See the caveats in the documentation: https://pandas.pydata.org/pandas-docs/stable/user_guide/indexing.html#returning-a-view-versus-a-copy\n",
      "  trump_device[\"year\"] = pd.DatetimeIndex(trump_device[\"date\"]).year\n",
      "/tmp/ipykernel_65/1709783570.py:2: SettingWithCopyWarning: \n",
      "A value is trying to be set on a copy of a slice from a DataFrame.\n",
      "Try using .loc[row_indexer,col_indexer] = value instead\n",
      "\n",
      "See the caveats in the documentation: https://pandas.pydata.org/pandas-docs/stable/user_guide/indexing.html#returning-a-view-versus-a-copy\n",
      "  trump_device[\"month\"] = pd.DatetimeIndex(trump_device[\"date\"]).month\n",
      "/tmp/ipykernel_65/1709783570.py:3: SettingWithCopyWarning: \n",
      "A value is trying to be set on a copy of a slice from a DataFrame.\n",
      "Try using .loc[row_indexer,col_indexer] = value instead\n",
      "\n",
      "See the caveats in the documentation: https://pandas.pydata.org/pandas-docs/stable/user_guide/indexing.html#returning-a-view-versus-a-copy\n",
      "  trump_device[\"day\"] = pd.DatetimeIndex(trump_device[\"date\"]).day\n",
      "/tmp/ipykernel_65/1709783570.py:4: SettingWithCopyWarning: \n",
      "A value is trying to be set on a copy of a slice from a DataFrame.\n",
      "Try using .loc[row_indexer,col_indexer] = value instead\n",
      "\n",
      "See the caveats in the documentation: https://pandas.pydata.org/pandas-docs/stable/user_guide/indexing.html#returning-a-view-versus-a-copy\n",
      "  trump_device[\"hour\"] = pd.DatetimeIndex(trump_device[\"date\"]).hour\n",
      "/tmp/ipykernel_65/1709783570.py:5: SettingWithCopyWarning: \n",
      "A value is trying to be set on a copy of a slice from a DataFrame.\n",
      "Try using .loc[row_indexer,col_indexer] = value instead\n",
      "\n",
      "See the caveats in the documentation: https://pandas.pydata.org/pandas-docs/stable/user_guide/indexing.html#returning-a-view-versus-a-copy\n",
      "  trump_device[\"minute\"] = pd.DatetimeIndex(trump_device[\"date\"]).minute\n",
      "/tmp/ipykernel_65/1709783570.py:6: SettingWithCopyWarning: \n",
      "A value is trying to be set on a copy of a slice from a DataFrame.\n",
      "Try using .loc[row_indexer,col_indexer] = value instead\n",
      "\n",
      "See the caveats in the documentation: https://pandas.pydata.org/pandas-docs/stable/user_guide/indexing.html#returning-a-view-versus-a-copy\n",
      "  trump_device[\"second\"] = pd.DatetimeIndex(trump_device[\"date\"]).second\n"
     ]
    },
    {
     "data": {
      "text/html": [
       "<div>\n",
       "<style scoped>\n",
       "    .dataframe tbody tr th:only-of-type {\n",
       "        vertical-align: middle;\n",
       "    }\n",
       "\n",
       "    .dataframe tbody tr th {\n",
       "        vertical-align: top;\n",
       "    }\n",
       "\n",
       "    .dataframe thead th {\n",
       "        text-align: right;\n",
       "    }\n",
       "</style>\n",
       "<table border=\"1\" class=\"dataframe\">\n",
       "  <thead>\n",
       "    <tr style=\"text-align: right;\">\n",
       "      <th></th>\n",
       "      <th>device</th>\n",
       "      <th>text</th>\n",
       "      <th>retweets</th>\n",
       "      <th>year</th>\n",
       "      <th>month</th>\n",
       "      <th>day</th>\n",
       "      <th>hour</th>\n",
       "      <th>minute</th>\n",
       "      <th>second</th>\n",
       "    </tr>\n",
       "    <tr>\n",
       "      <th>id</th>\n",
       "      <th></th>\n",
       "      <th></th>\n",
       "      <th></th>\n",
       "      <th></th>\n",
       "      <th></th>\n",
       "      <th></th>\n",
       "      <th></th>\n",
       "      <th></th>\n",
       "      <th></th>\n",
       "    </tr>\n",
       "  </thead>\n",
       "  <tbody>\n",
       "    <tr>\n",
       "      <th>278308122500661248</th>\n",
       "      <td>iPhone</td>\n",
       "      <td>Good luck to Bob Kraft, Tom Brady, and Coach Bill Belichick tonight.</td>\n",
       "      <td>629</td>\n",
       "      <td>2012</td>\n",
       "      <td>12</td>\n",
       "      <td>11</td>\n",
       "      <td>1</td>\n",
       "      <td>20</td>\n",
       "      <td>1</td>\n",
       "    </tr>\n",
       "    <tr>\n",
       "      <th>298972696438521857</th>\n",
       "      <td>Android</td>\n",
       "      <td>Thanks @SherriEShepherd 4 your nice comments today on The View. U were terrific!</td>\n",
       "      <td>26</td>\n",
       "      <td>2013</td>\n",
       "      <td>2</td>\n",
       "      <td>6</td>\n",
       "      <td>1</td>\n",
       "      <td>53</td>\n",
       "      <td>40</td>\n",
       "    </tr>\n",
       "    <tr>\n",
       "      <th>302270661387231232</th>\n",
       "      <td>Android</td>\n",
       "      <td>@rosscooker thanks</td>\n",
       "      <td>6</td>\n",
       "      <td>2013</td>\n",
       "      <td>2</td>\n",
       "      <td>15</td>\n",
       "      <td>4</td>\n",
       "      <td>18</td>\n",
       "      <td>36</td>\n",
       "    </tr>\n",
       "    <tr>\n",
       "      <th>302358232716939265</th>\n",
       "      <td>Android</td>\n",
       "      <td>@RuRu_89 thanks</td>\n",
       "      <td>4</td>\n",
       "      <td>2013</td>\n",
       "      <td>2</td>\n",
       "      <td>15</td>\n",
       "      <td>10</td>\n",
       "      <td>6</td>\n",
       "      <td>34</td>\n",
       "    </tr>\n",
       "    <tr>\n",
       "      <th>302925403595612160</th>\n",
       "      <td>Android</td>\n",
       "      <td>Great going.</td>\n",
       "      <td>127</td>\n",
       "      <td>2013</td>\n",
       "      <td>2</td>\n",
       "      <td>16</td>\n",
       "      <td>23</td>\n",
       "      <td>40</td>\n",
       "      <td>18</td>\n",
       "    </tr>\n",
       "  </tbody>\n",
       "</table>\n",
       "</div>"
      ],
      "text/plain": [
       "                     device  \\\n",
       "id                            \n",
       "278308122500661248   iPhone   \n",
       "298972696438521857  Android   \n",
       "302270661387231232  Android   \n",
       "302358232716939265  Android   \n",
       "302925403595612160  Android   \n",
       "\n",
       "                                                                                                text  \\\n",
       "id                                                                                                     \n",
       "278308122500661248              Good luck to Bob Kraft, Tom Brady, and Coach Bill Belichick tonight.   \n",
       "298972696438521857  Thanks @SherriEShepherd 4 your nice comments today on The View. U were terrific!   \n",
       "302270661387231232                                                                @rosscooker thanks   \n",
       "302358232716939265                                                                   @RuRu_89 thanks   \n",
       "302925403595612160                                                                      Great going.   \n",
       "\n",
       "                    retweets  year  month  day  hour  minute  second  \n",
       "id                                                                    \n",
       "278308122500661248       629  2012     12   11     1      20       1  \n",
       "298972696438521857        26  2013      2    6     1      53      40  \n",
       "302270661387231232         6  2013      2   15     4      18      36  \n",
       "302358232716939265         4  2013      2   15    10       6      34  \n",
       "302925403595612160       127  2013      2   16    23      40      18  "
      ]
     },
     "execution_count": 73,
     "metadata": {},
     "output_type": "execute_result"
    }
   ],
   "source": [
    "trump_device[\"year\"] = pd.DatetimeIndex(trump_device[\"date\"]).year\n",
    "trump_device[\"month\"] = pd.DatetimeIndex(trump_device[\"date\"]).month\n",
    "trump_device[\"day\"] = pd.DatetimeIndex(trump_device[\"date\"]).day\n",
    "trump_device[\"hour\"] = pd.DatetimeIndex(trump_device[\"date\"]).hour\n",
    "trump_device[\"minute\"] = pd.DatetimeIndex(trump_device[\"date\"]).minute\n",
    "trump_device[\"second\"] = pd.DatetimeIndex(trump_device[\"date\"]).second\n",
    "trump_device=trump_device.drop(\"date\",axis=1)\n",
    "trump_device.head()"
   ]
  },
  {
   "cell_type": "markdown",
   "metadata": {},
   "source": [
    "#### Question 2 (c) \n",
    "\n",
    "Overlay the distributions of Trump's 2 most frequently used web technologies over the years. "
   ]
  },
  {
   "cell_type": "code",
   "execution_count": 113,
   "metadata": {},
   "outputs": [
    {
     "data": {
      "image/png": "[encoded data removed]",
      "text/plain": [
       "<Figure size 432x288 with 1 Axes>"
      ]
     },
     "metadata": {
      "needs_background": "light"
     },
     "output_type": "display_data"
    }
   ],
   "source": [
    "android = trump_device[trump_device['device'] == 'Android']\n",
    "iphone = trump_device[trump_device['device'] == \"iPhone\"]\n",
    "\n",
    "sns.distplot(android['year'], label = 'Android')\n",
    "sns.distplot(iphone['year'], label = 'iPhone')\n",
    "plt.legend()\n",
    "plt.show()"
   ]
  },
  {
   "cell_type": "markdown",
   "metadata": {},
   "source": [
    "#### Question 2 (d) \n",
    "\n",
    "Please commeent on the pattern(s) from the plot in Question 2 (c). \n",
    "\n",
    "**My first observation is that the data is not continuous which makes the graph look awkward. The year variable must be an integer which results in gaps between integer values. In terms of the data, most if not all, of the tweets from before 2016 were sent from an Android device and after 2016, all of the tweets are from iPhone devices. This evidence would allow someone viewing the data to assume that trump switched from an Android cellular device to an iPhone cellular device in 2016.**"
   ]
  },
  {
   "cell_type": "markdown",
   "metadata": {},
   "source": [
    "#### Question 2 (e) \n",
    "\n",
    "Is there a difference between Trump's tweet behavior across these devices? Draw the distribution over hours of the day that Trump tweets on each device for the 2 most commonly used devices. "
   ]
  },
  {
   "cell_type": "code",
   "execution_count": 75,
   "metadata": {},
   "outputs": [
    {
     "data": {
      "image/png": "[encoded data removed]",
      "text/plain": [
       "<Figure size 432x288 with 1 Axes>"
      ]
     },
     "metadata": {
      "needs_background": "light"
     },
     "output_type": "display_data"
    }
   ],
   "source": [
    "sns.distplot(android['hour'], label = 'Android', hist=False)\n",
    "sns.distplot(iphone['hour'], label = 'iPhone', hist=False)\n",
    "plt.legend()\n",
    "plt.show()"
   ]
  },
  {
   "cell_type": "markdown",
   "metadata": {},
   "source": [
    "#### Question 2 (f) \n",
    "\n",
    "According to this [Verge article](https://www.theverge.com/2017/3/29/15103504/donald-trump-iphone-using-switched-android), Donald Trump switched from an Android to an iPhone sometime in March 2017.\n",
    "\n",
    "Let's see if this information significantly changes our plot. Create a figure similar to your figure from question 2(e), but this time, only use tweets that were tweeted before 2017."
   ]
  },
  {
   "cell_type": "code",
   "execution_count": 76,
   "metadata": {},
   "outputs": [
    {
     "data": {
      "image/png": "[encoded data removed]",
      "text/plain": [
       "<Figure size 432x288 with 1 Axes>"
      ]
     },
     "metadata": {
      "needs_background": "light"
     },
     "output_type": "display_data"
    }
   ],
   "source": [
    "trump_device[trump_device['device'] == 'Android']\n",
    "iphone17 = iphone[iphone[\"year\"] < 2017]\n",
    "android17 = android[android[\"year\"] < 2017]\n",
    "sns.distplot(android17['hour'], label = 'Android', hist=False)\n",
    "sns.distplot(iphone17['hour'], label = 'iPhone', hist=False)\n",
    "plt.legend()\n",
    "plt.show()\n"
   ]
  },
  {
   "cell_type": "markdown",
   "metadata": {},
   "source": [
    "#### Question 2 (g) \n",
    "\n",
    "During the campaign, it was theorized that Donald Trump's tweets from Android devices were written by him personally, and the tweets from iPhones were from his staff. Does your figure give support to this theory? What kinds of additional analysis could help support or reject this claim?\n",
    "\n",
    "**The figure above shows a dip in activity of the android devices between 1am and 10am and 12pm and 10pm. This pattern reinforces that Trump used his android device for personal tweets because between 1am and 10 am he would have been asleep, and after waking up and being on his phone for a period of time, he would put it away and do the work which he is required to do for his campaign/corporation (Hence the dip between 12pm and 10pm). Analysis of his retweet behaviours could further support this theory.**"
   ]
  },
  {
   "cell_type": "markdown",
   "metadata": {},
   "source": [
    "## Part II Sentiment Analysis \n",
    "\n",
    "It turns out that we can use the words in Trump's tweets to calculate a measure of the sentiment of the tweet. For example, the sentence \"I love America!\" has positive sentiment, whereas the sentence \"I hate taxes!\" has a negative sentiment. In addition, some words have stronger positive / negative sentiment than others: \"I love America.\" is more positive than \"I like America.\"\n",
    "\n",
    "We will use the [VADER (Valence Aware Dictionary and sEntiment Reasoner)](https://github.com/cjhutto/vaderSentiment) lexicon to analyze the sentiment of Trump's tweets. VADER is a lexicon and rule-based sentiment analysis tool that is specifically attuned to sentiments expressed in social media which is great for our usage.\n",
    "\n",
    "The VADER lexicon gives the sentiment of individual words. Run the following cell to show the first few rows of the lexicon:"
   ]
  },
  {
   "cell_type": "code",
   "execution_count": 77,
   "metadata": {},
   "outputs": [
    {
     "name": "stdout",
     "output_type": "stream",
     "text": [
      "$:\t-1.5\t0.80623\t[-1, -1, -1, -1, -3, -1, -3, -1, -2, -1]\n",
      "%)\t-0.4\t1.0198\t[-1, 0, -1, 0, 0, -2, -1, 2, -1, 0]\n",
      "%-)\t-1.5\t1.43178\t[-2, 0, -2, -2, -1, 2, -2, -3, -2, -3]\n",
      "&-:\t-0.4\t1.42829\t[-3, -1, 0, 0, -1, -1, -1, 2, -1, 2]\n",
      "&:\t-0.7\t0.64031\t[0, -1, -1, -1, 1, -1, -1, -1, -1, -1]\n",
      "( '}{' )\t1.6\t0.66332\t[1, 2, 2, 1, 1, 2, 2, 1, 3, 1]\n",
      "(%\t-0.9\t0.9434\t[0, 0, 1, -1, -1, -1, -2, -2, -1, -2]\n",
      "('-:\t2.2\t1.16619\t[4, 1, 4, 3, 1, 2, 3, 1, 2, 1]\n",
      "(':\t2.3\t0.9\t[1, 3, 3, 2, 2, 4, 2, 3, 1, 2]\n",
      "((-:\t2.1\t0.53852\t[2, 2, 2, 1, 2, 3, 2, 2, 3, 2]\n",
      "\n"
     ]
    }
   ],
   "source": [
    "print(''.join(open(\"vader_lexicon.txt\").readlines()[:10]))"
   ]
  },
  {
   "cell_type": "markdown",
   "metadata": {},
   "source": [
    "As you can see, the lexicon contains emojis too! Each row contains a word and the polarity of that word, measuring how positive or negative the word is."
   ]
  },
  {
   "cell_type": "markdown",
   "metadata": {},
   "source": [
    "#### Question 3\n",
    "The creators of VADER describe the tool’s assessment of polarity, or “compound score,” in the following way:\n",
    "“The compound score is computed by summing the valence scores of each word in the lexicon, adjusted according to the rules, and then normalized to be between -1 (most extreme negative) and +1 (most extreme positive). This is the most useful metric if you want a single unidimensional measure of sentiment for a given sentence. Calling it a 'normalized, weighted composite score' is accurate.”\n",
    "\n",
    "As you can see, VADER doesn't \"read\" sentences, but works by parsing sentences into words assigning a preset generalized score from their testing sets to each word separately.\n",
    "\n",
    "VADER relies on humans to stabilize its scoring. The creators use Amazon Mechanical Turk, a crowdsourcing survey platform, to train its model. Its training set of data consists of a small corpus of tweets, New York Times editorials and news articles, Rotten Tomatoes reviews, and Amazon product reviews, tokenized using the natural language toolkit (NLTK). Each word in each dataset was reviewed and rated by at least 20 trained individuals who had signed up to work on these tasks through Mechanical Turk."
   ]
  },
  {
   "cell_type": "markdown",
   "metadata": {},
   "source": [
    "#### Question 3 (a) \n",
    "\n",
    "Please score the sentiment of one of the following words:\n",
    "\n",
    "- police\n",
    "- order\n",
    "- Democrat\n",
    "- Republican\n",
    "- gun\n",
    "- dog\n",
    "- technology\n",
    "- TikTok\n",
    "- security\n",
    "- face-mask\n",
    "- science\n",
    "- climate change\n",
    "- vaccine\n",
    "\n",
    "What score did you give it and why? Can you think of a situation in which this word would carry the opposite sentiment to the one you’ve just assigned?\n",
    "\n",
    "**I would give the word 'gun' a score of -0.9 since guns are generally affiliated with violence and tradegy with are extremely negative. The reason it is not a -1 is because guns are also used in the context of protection.**\n"
   ]
  },
  {
   "cell_type": "markdown",
   "metadata": {},
   "source": [
    "#### Question 3 (b) \n",
    "\n",
    "VADER aggregates the sentiment of words in order to determine the overall sentiment of a sentence, and further aggregates sentences to assign just one aggregated score to a whole tweet or collection of tweets. This is a complex process and if you'd like to learn more about how VADER aggregates sentiment, here is the info at this link.\n",
    "\n",
    "Are there circumstances (e.g. certain kinds of language or data) when you might not want to use VADER? What features of human speech might VADER misrepresent or fail to capture?\n",
    "\n",
    "**In general, punctuation can have a tremendous effect on the sentiment of a text. For example, exclamation marks can increase the factor of positivity/negativity. Furthermore, human interaction is heavly non-verbal. Many factors such as tone, eye contact, and posture affect the emotions that are created through speech. In the context of this data, there are some tweets which contain links or hashtags. This can make it difficult to guage the tweet's sentiment**"
   ]
  },
  {
   "cell_type": "markdown",
   "metadata": {},
   "source": [
    "####  Question 3 (c) \n",
    "Read **vader_lexicon.txt** into a DataFrame called sent. The index of the DataFrame should be the words in the lexicon. sent should have one column named polarity, storing the polarity of each word.\n",
    "\n",
    "Hint: The pd.read_csv function may help here. Since the file is tab-separated, be sure to set sep='\\t' in your call to pd.read_csv."
   ]
  },
  {
   "cell_type": "code",
   "execution_count": 78,
   "metadata": {},
   "outputs": [
    {
     "data": {
      "text/html": [
       "<div>\n",
       "<style scoped>\n",
       "    .dataframe tbody tr th:only-of-type {\n",
       "        vertical-align: middle;\n",
       "    }\n",
       "\n",
       "    .dataframe tbody tr th {\n",
       "        vertical-align: top;\n",
       "    }\n",
       "\n",
       "    .dataframe thead th {\n",
       "        text-align: right;\n",
       "    }\n",
       "</style>\n",
       "<table border=\"1\" class=\"dataframe\">\n",
       "  <thead>\n",
       "    <tr style=\"text-align: right;\">\n",
       "      <th></th>\n",
       "      <th>polarity</th>\n",
       "    </tr>\n",
       "    <tr>\n",
       "      <th>word</th>\n",
       "      <th></th>\n",
       "    </tr>\n",
       "  </thead>\n",
       "  <tbody>\n",
       "    <tr>\n",
       "      <th>$:</th>\n",
       "      <td>-1.5</td>\n",
       "    </tr>\n",
       "    <tr>\n",
       "      <th>%)</th>\n",
       "      <td>-0.4</td>\n",
       "    </tr>\n",
       "    <tr>\n",
       "      <th>%-)</th>\n",
       "      <td>-1.5</td>\n",
       "    </tr>\n",
       "    <tr>\n",
       "      <th>&amp;-:</th>\n",
       "      <td>-0.4</td>\n",
       "    </tr>\n",
       "    <tr>\n",
       "      <th>&amp;:</th>\n",
       "      <td>-0.7</td>\n",
       "    </tr>\n",
       "  </tbody>\n",
       "</table>\n",
       "</div>"
      ],
      "text/plain": [
       "      polarity\n",
       "word          \n",
       "$:        -1.5\n",
       "%)        -0.4\n",
       "%-)       -1.5\n",
       "&-:       -0.4\n",
       "&:        -0.7"
      ]
     },
     "execution_count": 78,
     "metadata": {},
     "output_type": "execute_result"
    }
   ],
   "source": [
    "sent = pd.read_csv(\"vader_lexicon.txt\", sep='\\t',header = None)[[0,1]].rename(columns = {0 : 'word',1: 'polarity'})\n",
    "sent.set_index('word',inplace = True)\n",
    "sent.head()"
   ]
  },
  {
   "cell_type": "markdown",
   "metadata": {},
   "source": [
    "Now, let's get rid of punctuation since it will cause us to fail to match words. Create a new column called **no_punc** in the trump DataFrame to be the lowercased text of each tweet with all punctuation replaced by a single space. We consider punctuation characters to be any character that isn't a Unicode word character or a whitespace character. You may want to consult the Python documentation on regex for this problem.\n",
    "\n",
    "(Why don't we simply remove punctuation instead of replacing with a space? See if you can figure this out by looking at the tweet data.)\n"
   ]
  },
  {
   "cell_type": "code",
   "execution_count": 79,
   "metadata": {},
   "outputs": [],
   "source": [
    "# Save your regex in punct_re\n",
    "punct_re = r'[^\\w\\s]+'\n",
    "trump['no_punc'] = trump['text'].str.lower().str.replace(punct_re, ' ')"
   ]
  },
  {
   "cell_type": "markdown",
   "metadata": {},
   "source": [
    "#### Question 3 (d) \n",
    "\n",
    "Now, let's convert the tweets into what's called a tidy format to make the sentiments easier to calculate. Use the no_punc column of trump to create a table called tidy_format. The index of the table should be the IDs of the tweets, repeated once for every word in the tweet. \n",
    "\n",
    "It has two columns:\n",
    "\n",
    "1. num: The location of the word in the tweet. For example, if the tweet was \"i love america\", then the location of the word \"i\" is 0, \"love\" is 1, and \"america\" is 2.\n",
    "2. word: The individual words of each tweet.\n",
    "\n",
    "As usual, try to avoid using any for loops. Our solution uses a chain of 5 methods on the trump DataFrame, albeit using some rather advanced Pandas hacking.\n",
    "\n",
    "- **Hint 1:** Try looking at the expand argument to pandas' str.split.\n",
    "- **Hint 2:** Try looking at the stack() method.\n",
    "- **Hint 3:** Try looking at the level parameter of the reset_index method.    \n",
    "    "
   ]
  },
  {
   "cell_type": "code",
   "execution_count": 81,
   "metadata": {},
   "outputs": [
    {
     "data": {
      "text/html": [
       "<div>\n",
       "<style scoped>\n",
       "    .dataframe tbody tr th:only-of-type {\n",
       "        vertical-align: middle;\n",
       "    }\n",
       "\n",
       "    .dataframe tbody tr th {\n",
       "        vertical-align: top;\n",
       "    }\n",
       "\n",
       "    .dataframe thead th {\n",
       "        text-align: right;\n",
       "    }\n",
       "</style>\n",
       "<table border=\"1\" class=\"dataframe\">\n",
       "  <thead>\n",
       "    <tr style=\"text-align: right;\">\n",
       "      <th></th>\n",
       "      <th>num</th>\n",
       "      <th>word</th>\n",
       "    </tr>\n",
       "    <tr>\n",
       "      <th>id</th>\n",
       "      <th></th>\n",
       "      <th></th>\n",
       "    </tr>\n",
       "  </thead>\n",
       "  <tbody>\n",
       "    <tr>\n",
       "      <th>1698308935</th>\n",
       "      <td>0</td>\n",
       "      <td>be</td>\n",
       "    </tr>\n",
       "    <tr>\n",
       "      <th>1698308935</th>\n",
       "      <td>1</td>\n",
       "      <td>sure</td>\n",
       "    </tr>\n",
       "    <tr>\n",
       "      <th>1698308935</th>\n",
       "      <td>2</td>\n",
       "      <td>to</td>\n",
       "    </tr>\n",
       "    <tr>\n",
       "      <th>1698308935</th>\n",
       "      <td>3</td>\n",
       "      <td>tune</td>\n",
       "    </tr>\n",
       "    <tr>\n",
       "      <th>1698308935</th>\n",
       "      <td>4</td>\n",
       "      <td>in</td>\n",
       "    </tr>\n",
       "  </tbody>\n",
       "</table>\n",
       "</div>"
      ],
      "text/plain": [
       "            num  word\n",
       "id                   \n",
       "1698308935    0    be\n",
       "1698308935    1  sure\n",
       "1698308935    2    to\n",
       "1698308935    3  tune\n",
       "1698308935    4    in"
      ]
     },
     "execution_count": 81,
     "metadata": {},
     "output_type": "execute_result"
    }
   ],
   "source": [
    "tidy_format = pd.DataFrame(data = trump, columns = [\"no_punc\"])\n",
    "\n",
    "tidy_format = (tidy_format['no_punc'].str.split(expand = True).stack(dropna = True).reset_index(name = \"word\")\n",
    "    .rename(columns={\"level_1\": \"num\"})\n",
    "              )\n",
    "\n",
    "tidy_format.set_index(\"id\",inplace = True)\n",
    "tidy_format.head(5)"
   ]
  },
  {
   "cell_type": "markdown",
   "metadata": {},
   "source": [
    "#### Question 3 (e) \n",
    "\n",
    "Now that we have this table in the tidy format, it becomes much easier to find the sentiment of each tweet: we can join the table with the lexicon table.Add a polarity column to the trump table. The polarity column should contain the sum of the sentiment polarity of each word in the text of the tweet.\n",
    "\n",
    "**Hints:**\n",
    "- You will need to merge the tidy_format and sent tables and group the final answer.\n",
    "- If certain words are not found in the sent table, set their polarities to 0."
   ]
  },
  {
   "cell_type": "code",
   "execution_count": 95,
   "metadata": {},
   "outputs": [
    {
     "data": {
      "text/html": [
       "<div>\n",
       "<style scoped>\n",
       "    .dataframe tbody tr th:only-of-type {\n",
       "        vertical-align: middle;\n",
       "    }\n",
       "\n",
       "    .dataframe tbody tr th {\n",
       "        vertical-align: top;\n",
       "    }\n",
       "\n",
       "    .dataframe thead th {\n",
       "        text-align: right;\n",
       "    }\n",
       "</style>\n",
       "<table border=\"1\" class=\"dataframe\">\n",
       "  <thead>\n",
       "    <tr style=\"text-align: right;\">\n",
       "      <th></th>\n",
       "      <th>date</th>\n",
       "      <th>device</th>\n",
       "      <th>text</th>\n",
       "      <th>retweets</th>\n",
       "      <th>no_punc</th>\n",
       "      <th>polarity</th>\n",
       "    </tr>\n",
       "    <tr>\n",
       "      <th>id</th>\n",
       "      <th></th>\n",
       "      <th></th>\n",
       "      <th></th>\n",
       "      <th></th>\n",
       "      <th></th>\n",
       "      <th></th>\n",
       "    </tr>\n",
       "  </thead>\n",
       "  <tbody>\n",
       "    <tr>\n",
       "      <th>1698308935</th>\n",
       "      <td>2009-05-04 18:54:25</td>\n",
       "      <td>Twitter Web Client</td>\n",
       "      <td>Be sure to tune in and watch Donald Trump on Late Night with David Letterman as he presents the Top Ten List tonight!</td>\n",
       "      <td>519</td>\n",
       "      <td>be sure to tune in and watch donald trump on late night with david letterman as he presents the top ten list tonight</td>\n",
       "      <td>2.1</td>\n",
       "    </tr>\n",
       "    <tr>\n",
       "      <th>1701461182</th>\n",
       "      <td>2009-05-05 01:00:10</td>\n",
       "      <td>Twitter Web Client</td>\n",
       "      <td>Donald Trump will be appearing on The View tomorrow morning to discuss Celebrity Apprentice and his new book Think Like A Champion!</td>\n",
       "      <td>34</td>\n",
       "      <td>donald trump will be appearing on the view tomorrow morning to discuss celebrity apprentice and his new book think like a champion</td>\n",
       "      <td>4.4</td>\n",
       "    </tr>\n",
       "    <tr>\n",
       "      <th>1737479987</th>\n",
       "      <td>2009-05-08 13:38:08</td>\n",
       "      <td>Twitter Web Client</td>\n",
       "      <td>Donald Trump reads Top Ten Financial Tips on Late Show with David Letterman: http://tinyurl.com/ooafwn - Very funny!</td>\n",
       "      <td>15</td>\n",
       "      <td>donald trump reads top ten financial tips on late show with david letterman  http tinyurl com ooafwn   very funny</td>\n",
       "      <td>2.7</td>\n",
       "    </tr>\n",
       "    <tr>\n",
       "      <th>1741160716</th>\n",
       "      <td>2009-05-08 20:40:15</td>\n",
       "      <td>Twitter Web Client</td>\n",
       "      <td>New Blog Post: Celebrity Apprentice Finale and Lessons Learned Along the Way: http://tinyurl.com/qlux5e</td>\n",
       "      <td>11</td>\n",
       "      <td>new blog post  celebrity apprentice finale and lessons learned along the way  http tinyurl com qlux5e</td>\n",
       "      <td>0.0</td>\n",
       "    </tr>\n",
       "    <tr>\n",
       "      <th>1773561338</th>\n",
       "      <td>2009-05-12 14:07:28</td>\n",
       "      <td>Twitter Web Client</td>\n",
       "      <td>\"\"\"My persona will never be that of a wallflower - I’d rather build walls than cling to them\"\" --Donald J. Trump\"</td>\n",
       "      <td>1321</td>\n",
       "      <td>my persona will never be that of a wallflower   i d rather build walls than cling to them   donald j  trump</td>\n",
       "      <td>0.0</td>\n",
       "    </tr>\n",
       "    <tr>\n",
       "      <th>...</th>\n",
       "      <td>...</td>\n",
       "      <td>...</td>\n",
       "      <td>...</td>\n",
       "      <td>...</td>\n",
       "      <td>...</td>\n",
       "      <td>...</td>\n",
       "    </tr>\n",
       "    <tr>\n",
       "      <th>1346928882595885058</th>\n",
       "      <td>2021-01-06 21:17:24</td>\n",
       "      <td>Twitter for iPhone</td>\n",
       "      <td>https://t.co/Pm2PKV0Fp3</td>\n",
       "      <td>0</td>\n",
       "      <td>https t co pm2pkv0fp3</td>\n",
       "      <td>0.0</td>\n",
       "    </tr>\n",
       "    <tr>\n",
       "      <th>1346954970910707712</th>\n",
       "      <td>2021-01-06 23:01:04</td>\n",
       "      <td>Twitter for iPhone</td>\n",
       "      <td>These are the things and events that happen when a sacred landslide election victory is so unceremoniously &amp;amp; viciously stripped away from great patriots who have been badly &amp;amp; unfairly treated for so long. Go home with love &amp;amp; in peace. Remember this day forever!</td>\n",
       "      <td>0</td>\n",
       "      <td>these are the things and events that happen when a sacred landslide election victory is so unceremoniously  amp  viciously stripped away from great patriots who have been badly  amp  unfairly treated for so long  go home with love  amp  in peace  remember this day forever</td>\n",
       "      <td>5.4</td>\n",
       "    </tr>\n",
       "    <tr>\n",
       "      <th>1347334804052844550</th>\n",
       "      <td>2021-01-08 00:10:24</td>\n",
       "      <td>Twitter Media Studio</td>\n",
       "      <td>https://t.co/csX07ZVWGe</td>\n",
       "      <td>154877</td>\n",
       "      <td>https t co csx07zvwge</td>\n",
       "      <td>0.0</td>\n",
       "    </tr>\n",
       "    <tr>\n",
       "      <th>1347555316863553542</th>\n",
       "      <td>2021-01-08 14:46:38</td>\n",
       "      <td>Twitter for iPhone</td>\n",
       "      <td>The 75,000,000 great American Patriots who voted for me, AMERICA FIRST, and MAKE AMERICA GREAT AGAIN, will have a GIANT VOICE long into the future. They will not be disrespected or treated unfairly in any way, shape or form!!!</td>\n",
       "      <td>108844</td>\n",
       "      <td>the 75 000 000 great american patriots who voted for me  america first  and make america great again  will have a giant voice long into the future  they will not be disrespected or treated unfairly in any way  shape or form</td>\n",
       "      <td>4.2</td>\n",
       "    </tr>\n",
       "    <tr>\n",
       "      <th>1347569870578266115</th>\n",
       "      <td>2021-01-08 15:44:28</td>\n",
       "      <td>Twitter for iPhone</td>\n",
       "      <td>To all of those who have asked, I will not be going to the Inauguration on January 20th.</td>\n",
       "      <td>83532</td>\n",
       "      <td>to all of those who have asked  i will not be going to the inauguration on january 20th</td>\n",
       "      <td>0.0</td>\n",
       "    </tr>\n",
       "  </tbody>\n",
       "</table>\n",
       "<p>56571 rows × 6 columns</p>\n",
       "</div>"
      ],
      "text/plain": [
       "                                   date                device  \\\n",
       "id                                                              \n",
       "1698308935          2009-05-04 18:54:25    Twitter Web Client   \n",
       "1701461182          2009-05-05 01:00:10    Twitter Web Client   \n",
       "1737479987          2009-05-08 13:38:08    Twitter Web Client   \n",
       "1741160716          2009-05-08 20:40:15    Twitter Web Client   \n",
       "1773561338          2009-05-12 14:07:28    Twitter Web Client   \n",
       "...                                 ...                   ...   \n",
       "1346928882595885058 2021-01-06 21:17:24    Twitter for iPhone   \n",
       "1346954970910707712 2021-01-06 23:01:04    Twitter for iPhone   \n",
       "1347334804052844550 2021-01-08 00:10:24  Twitter Media Studio   \n",
       "1347555316863553542 2021-01-08 14:46:38    Twitter for iPhone   \n",
       "1347569870578266115 2021-01-08 15:44:28    Twitter for iPhone   \n",
       "\n",
       "                                                                                                                                                                                                                                                                                                  text  \\\n",
       "id                                                                                                                                                                                                                                                                                                       \n",
       "1698308935                                                                                                                                                                       Be sure to tune in and watch Donald Trump on Late Night with David Letterman as he presents the Top Ten List tonight!   \n",
       "1701461182                                                                                                                                                         Donald Trump will be appearing on The View tomorrow morning to discuss Celebrity Apprentice and his new book Think Like A Champion!   \n",
       "1737479987                                                                                                                                                                        Donald Trump reads Top Ten Financial Tips on Late Show with David Letterman: http://tinyurl.com/ooafwn - Very funny!   \n",
       "1741160716                                                                                                                                                                                     New Blog Post: Celebrity Apprentice Finale and Lessons Learned Along the Way: http://tinyurl.com/qlux5e   \n",
       "1773561338                                                                                                                                                                           \"\"\"My persona will never be that of a wallflower - I’d rather build walls than cling to them\"\" --Donald J. Trump\"   \n",
       "...                                                                                                                                                                                                                                                                                                ...   \n",
       "1346928882595885058                                                                                                                                                                                                                                                            https://t.co/Pm2PKV0Fp3   \n",
       "1346954970910707712  These are the things and events that happen when a sacred landslide election victory is so unceremoniously &amp; viciously stripped away from great patriots who have been badly &amp; unfairly treated for so long. Go home with love &amp; in peace. Remember this day forever!   \n",
       "1347334804052844550                                                                                                                                                                                                                                                            https://t.co/csX07ZVWGe   \n",
       "1347555316863553542                                                 The 75,000,000 great American Patriots who voted for me, AMERICA FIRST, and MAKE AMERICA GREAT AGAIN, will have a GIANT VOICE long into the future. They will not be disrespected or treated unfairly in any way, shape or form!!!   \n",
       "1347569870578266115                                                                                                                                                                                           To all of those who have asked, I will not be going to the Inauguration on January 20th.   \n",
       "\n",
       "                     retweets  \\\n",
       "id                              \n",
       "1698308935                519   \n",
       "1701461182                 34   \n",
       "1737479987                 15   \n",
       "1741160716                 11   \n",
       "1773561338               1321   \n",
       "...                       ...   \n",
       "1346928882595885058         0   \n",
       "1346954970910707712         0   \n",
       "1347334804052844550    154877   \n",
       "1347555316863553542    108844   \n",
       "1347569870578266115     83532   \n",
       "\n",
       "                                                                                                                                                                                                                                                                                               no_punc  \\\n",
       "id                                                                                                                                                                                                                                                                                                       \n",
       "1698308935                                                                                                                                                                       be sure to tune in and watch donald trump on late night with david letterman as he presents the top ten list tonight    \n",
       "1701461182                                                                                                                                                         donald trump will be appearing on the view tomorrow morning to discuss celebrity apprentice and his new book think like a champion    \n",
       "1737479987                                                                                                                                                                          donald trump reads top ten financial tips on late show with david letterman  http tinyurl com ooafwn   very funny    \n",
       "1741160716                                                                                                                                                                                       new blog post  celebrity apprentice finale and lessons learned along the way  http tinyurl com qlux5e   \n",
       "1773561338                                                                                                                                                                                my persona will never be that of a wallflower   i d rather build walls than cling to them   donald j  trump    \n",
       "...                                                                                                                                                                                                                                                                                                ...   \n",
       "1346928882595885058                                                                                                                                                                                                                                                              https t co pm2pkv0fp3   \n",
       "1346954970910707712  these are the things and events that happen when a sacred landslide election victory is so unceremoniously  amp  viciously stripped away from great patriots who have been badly  amp  unfairly treated for so long  go home with love  amp  in peace  remember this day forever    \n",
       "1347334804052844550                                                                                                                                                                                                                                                              https t co csx07zvwge   \n",
       "1347555316863553542                                                   the 75 000 000 great american patriots who voted for me  america first  and make america great again  will have a giant voice long into the future  they will not be disrespected or treated unfairly in any way  shape or form    \n",
       "1347569870578266115                                                                                                                                                                                           to all of those who have asked  i will not be going to the inauguration on january 20th    \n",
       "\n",
       "                     polarity  \n",
       "id                             \n",
       "1698308935                2.1  \n",
       "1701461182                4.4  \n",
       "1737479987                2.7  \n",
       "1741160716                0.0  \n",
       "1773561338                0.0  \n",
       "...                       ...  \n",
       "1346928882595885058       0.0  \n",
       "1346954970910707712       5.4  \n",
       "1347334804052844550       0.0  \n",
       "1347555316863553542       4.2  \n",
       "1347569870578266115       0.0  \n",
       "\n",
       "[56571 rows x 6 columns]"
      ]
     },
     "execution_count": 95,
     "metadata": {},
     "output_type": "execute_result"
    }
   ],
   "source": [
    "tidy_format2 = tidy_format.reset_index().merge(sent, how = \"left\", on = \"word\").set_index(\"id\")\n",
    "tidy_format2 = tidy_format2.groupby(by = [\"id\"]).sum()\n",
    "tidy_format2\n",
    "tidy_format2[\"polarity\"] = tidy_format2[\"polarity\"].fillna(0)\n",
    "trump['polarity'] = tidy_format2[\"polarity\"]\n",
    "trump"
   ]
  },
  {
   "cell_type": "markdown",
   "metadata": {},
   "source": [
    "Now we have a measure of the sentiment of each of his tweets! Note that this calculation is rather basic; you can read over the VADER readme to understand a more robust sentiment analysis.\n",
    "\n",
    "Now, run the cells below to see the most positive and most negative tweets from Trump in your dataset:"
   ]
  },
  {
   "cell_type": "code",
   "execution_count": 96,
   "metadata": {},
   "outputs": [
    {
     "name": "stdout",
     "output_type": "stream",
     "text": [
      "Most negative tweets:\n",
      "\n",
      "   Colin Powell was a pathetic interview today on Fake News CNN. In his time, he was weak &amp; gave away everything to everybody - so bad for the USA. Also got the “weapons of mass destruction” totally wrong, and you know what that mistake cost us? Sad! Only negative questions asked.\n",
      "\n",
      "   According to press reports, Iran may be planning an assassination, or other attack, against the United States in retaliation for the killing of terrorist leader Soleimani, which was carried out for his planning a future attack, murdering U.S. Troops, and the death &amp; suffering...\n",
      "\n",
      "   The Trump portrait of an unsustainable Border Crisis is dead on. “In the last two years, ICE officers made 266,000 arrests of aliens with Criminal Records, including those charged or convicted of 100,000 assaults, 30,000 sex crimes &amp, 4000 violent killings.” America’s Southern....\n",
      "\n",
      "   It is outrageous that Poisonous Synthetic Heroin Fentanyl comes pouring into the U.S. Postal System from China. We can, and must, END THIS NOW! The Senate should pass the STOP ACT – and firmly STOP this poison from killing our children and destroying our country. No more delay!\n",
      "\n",
      "   Our prayers are with the people of Vienna after yet another vile act of terrorism in Europe. These evil attacks against innocent people must stop. The U.S. stands with Austria, France, and all of Europe in the fight against terrorists, including radical Islamic terrorists.\n"
     ]
    }
   ],
   "source": [
    "print('Most negative tweets:')\n",
    "for t in trump.sort_values('polarity').head()['text']:\n",
    "    print('\\n  ', t)"
   ]
  },
  {
   "cell_type": "code",
   "execution_count": 97,
   "metadata": {},
   "outputs": [
    {
     "name": "stdout",
     "output_type": "stream",
     "text": [
      "Most positive tweets:\n",
      "\n",
      "   Congratulations to Patrick Reed on his great and courageous MASTERS win! When Patrick had his amazing win at Doral 5 years ago, people saw his great talent, and a bright future ahead. Now he is the Masters Champion!\n",
      "\n",
      "   Today, it was my great honor to proudly accept the endorsement of the @NYCPBA! I have deeply and profoundly admired the brave men and women of the #NYPD for my entire life. New York’s Finest are truly the best of the best — I will NEVER let you down! #MAGA https://t.co/o1l5kAx34v\n",
      "\n",
      "   95% Approval Rating in the Republican Party. Thank you! 191 Federal Judges (a record), and two Supreme Court Justices, approved. Best Economy &amp; Employment Numbers EVER. Thank you to our great New, Smart and Nimble REPUBLICAN PARTY. Join now, it’s where people want to be!\n",
      "\n",
      "   Good luck and best wishes to my dear friend, the wonderful and very talented Joan Rivers!  Winner of Celebrity Apprentice, amazing woman.\n",
      "\n",
      "   It was great to be back in North Carolina with thousands of loyal, hardworking American Patriots! This election is a simple choice: If Biden Wins, China Wins. When WE Win, YOU WIN, North Carolina WINS, and America WINS! https://t.co/jWYVYZdT3E\n"
     ]
    }
   ],
   "source": [
    "print('Most positive tweets:')\n",
    "for t in trump.sort_values('polarity', ascending=False).head()['text']:\n",
    "    print('\\n  ', t)"
   ]
  },
  {
   "cell_type": "markdown",
   "metadata": {},
   "source": [
    "#### Question 3 (f)\n",
    "\n",
    "Read the 5 most positive and 5 most negative tweets. Do you think these tweets are accurately represented by their polarity scores?\n",
    "\n",
    "**Yes. The positive tweets are filled with warm and positive words and messages and the negative tweets have many hostile or sorrowful words and messages.**"
   ]
  },
  {
   "cell_type": "markdown",
   "metadata": {},
   "source": [
    "#### Question 4 \n",
    "\n",
    "Now, let's try looking at the distributions of sentiments for tweets containing certain keywords."
   ]
  },
  {
   "cell_type": "markdown",
   "metadata": {},
   "source": [
    "#### Question 4 (a) \n",
    "\n",
    "In the cell below, create a single plot showing both the distribution of tweet sentiments for tweets containing *nytimes*, as well as the distribution of tweet sentiments for tweets containing *fox*.\n",
    "\n",
    "Be sure to label your axes and provide a title and legend. Be sure to use different colors for fox and nytimes."
   ]
  },
  {
   "cell_type": "code",
   "execution_count": 108,
   "metadata": {},
   "outputs": [
    {
     "data": {
      "image/png": "[encoded data removed]",
      "text/plain": [
       "<Figure size 432x288 with 1 Axes>"
      ]
     },
     "metadata": {
      "needs_background": "light"
     },
     "output_type": "display_data"
    }
   ],
   "source": [
    "sns.distplot(trump[trump[\"no_punc\"].str.contains(\"nytimes\")][\"polarity\"], label = \"nytimes\")\n",
    "sns.distplot(trump[trump[\"no_punc\"].str.contains(\"fox\")][\"polarity\"], label = 'fox')\n",
    "plt.ylabel(\"proportion\")\n",
    "plt.xlabel(\"sentiment\")\n",
    "plt.legend()\n",
    "plt.show()"
   ]
  },
  {
   "cell_type": "markdown",
   "metadata": {},
   "source": [
    "#### Question 4 (b) \n",
    "\n",
    "Comment on what you observe in the plot above. Can you find another pair of keywords that lead to interesting plots? Describe what makes the plots interesting. \n",
    "\n",
    "**Tweets containing fox had generally more positive sentiment and tweets containing nytimes were more negative. This makes sense since fox has a conservative view and would post messages that Donald Trump would be in agreement with but the NY times are liberal and therefore had the opposite effect. Another pair of keywords that creates an interesing plot is democrat and replublican, for obvious reasons. Whichever trump is affiliated with will have a better sentiment**"
   ]
  },
  {
   "cell_type": "markdown",
   "metadata": {},
   "source": [
    "#### Question 5 \n",
    "\n",
    "Now, let's see whether there's a difference in sentiment for tweets with hashtags and those without."
   ]
  },
  {
   "cell_type": "markdown",
   "metadata": {},
   "source": [
    "#### Question 5 (a) \n",
    "\n",
    "First, we'll need to write some regex that can detect whether a tweet contains a hashtag or a link. We say that:\n",
    "\n",
    "- A tweet is a retweet if it has the string 'rt' anywhere in the tweet if it is preceeded and followed by a non-word character (the start and end of the string count as non-word characters).\n",
    "- A tweet has a hashtag if it has the character '#' anywhere in the tweet followed by a letter.\n",
    "- A tweet contains a link or a picture if it has http anywhere in the tweet\n",
    "(You can check out Trump's Twitter for why these criteria are true).\n",
    "\n",
    "In the cell below, assign rt_re to a regex pattern that identifies retweets and hash_link_re to a regex pattern that identifies tweets with hashtags or links.\n",
    "\n",
    "**Hints:**\n",
    "- Be sure to precede your regex pattern with r to make it a raw string (Ex: r'pattern'). To find out more, you can read the first paragraph of the documentation.\n",
    "- You may find using regex word boundaries helpful for one of your patterns."
   ]
  },
  {
   "cell_type": "code",
   "execution_count": 101,
   "metadata": {},
   "outputs": [],
   "source": [
    "rt_re = \"^rt | rt$ | ^RT | RT$ | ^Rt | Rt$\"\n",
    "hash_link_re = \"#[a-zA-z] | http\""
   ]
  },
  {
   "cell_type": "markdown",
   "metadata": {},
   "source": [
    "#### Question 5 (b) \n",
    "\n",
    "Let's see whether there's a difference in sentiments for tweets with hashtags/links and those without.\n",
    "\n",
    "Note: You will get a UserWarning error when running the below cell. For the purpose of this homework, you can ignore it.\n",
    "\n",
    "Run the cell below to see a distribution of tweet sentiments based on whether a tweet contains a hashtag or link."
   ]
  },
  {
   "cell_type": "code",
   "execution_count": 102,
   "metadata": {},
   "outputs": [
    {
     "data": {
      "image/png": "[encoded data removed]",
      "text/plain": [
       "<Figure size 432x288 with 1 Axes>"
      ]
     },
     "metadata": {
      "needs_background": "light"
     },
     "output_type": "display_data"
    }
   ],
   "source": [
    "sns.distplot(trump[trump['text'].str.contains(hash_link_re)]['polarity'],label='hashtag or link');\n",
    "sns.distplot(trump[~trump['text'].str.contains(hash_link_re)]['polarity'],label='no hashtag or link');\n",
    "plt.xlim(-10, 10);\n",
    "plt.ylim(0, 0.4);\n",
    "plt.title('Distribution of Tweet Polarities (hashtag/link vs none)');\n",
    "plt.legend();"
   ]
  },
  {
   "cell_type": "markdown",
   "metadata": {},
   "source": [
    "What do you notice about the distributions? Answer in 1-2 sentences.\n",
    "\n",
    "**Overall, the distribution is very similar. Both has similar shaped density curves. No hashtag or link distribution is more affected by outliers. The hashtag or link distribution shows that there are a lot of tweets that contain a hashtag or a link that have a sentiment of 0. This makes sense logically because hashtags are often many words combined into a single hashtag resulting in an unfamiliar word for VADER which is given a 0 and link are very long and contain various digits and characters also resulting in an unfamiliar word and given a 0. **"
   ]
  },
  {
   "cell_type": "markdown",
   "metadata": {},
   "source": [
    "## Congratulations! You have finished Assignment 3! "
   ]
  }
 ],
 "metadata": {
  "kernelspec": {
   "display_name": "Python 3 (ipykernel)",
   "language": "python",
   "name": "python3"
  },
  "language_info": {
   "codemirror_mode": {
    "name": "ipython",
    "version": 3
   },
   "file_extension": ".py",
   "mimetype": "text/x-python",
   "name": "python",
   "nbconvert_exporter": "python",
   "pygments_lexer": "ipython3",
   "version": "3.9.6"
  }
 },
 "nbformat": 4,
 "nbformat_minor": 2
}
